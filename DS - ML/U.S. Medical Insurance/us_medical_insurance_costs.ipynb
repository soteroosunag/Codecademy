{
 "cells": [
  {
   "cell_type": "markdown",
   "metadata": {},
   "source": [
    "# U.S. Medical Insurance"
   ]
  },
  {
   "cell_type": "markdown",
   "metadata": {},
   "source": [
    "The purpose of this project is to apply what was learned during the first module of the Data Science: Machine Learning Specialist Course on Codecademy. This will consist on importing data and doing some introductory data analysis on a .csv file with insurance information. For this I will try to write clean and effictient code. I will also try to keep redundancy at a minimum.\n",
    "\n",
    "To begin, we will import the required libraries and take a look at the data the file includes. "
   ]
  },
  {
   "cell_type": "code",
   "execution_count": 14,
   "metadata": {},
   "outputs": [],
   "source": [
    "import csv\n",
    "\n",
    "with open('insurance.csv') as insurance_data_file:\n",
    "    insurance_data = csv.DictReader(insurance_data_file)\n",
    "    data = []\n",
    "    for row in insurance_data:\n",
    "        data.append(row)"
   ]
  },
  {
   "cell_type": "markdown",
   "metadata": {},
   "source": [
    "Now that we have seen the information and the datatypes we encounter in each row, I think a nice way to start analyzing the data would be to write two functions. A function that calculates the average for a given numerical attribute (age, bmi, children, charges) and another that outputs the distribution of each categorical attribute (sex, smoker, region). "
   ]
  },
  {
   "cell_type": "code",
   "execution_count": 28,
   "metadata": {},
   "outputs": [
    {
     "name": "stdout",
     "output_type": "stream",
     "text": [
      "The average of the age attribute is: 39.21\n",
      "The average of the bmi attribute is: 30.66\n",
      "The average of the children attribute is: 1.09\n",
      "The average of the charges attribute is: 13270.42\n",
      "The distribution for sex, is as follows:\n",
      "female: 49.48%\n",
      "male: 50.52%\n",
      "The distribution for smoker, is as follows:\n",
      "yes: 20.48%\n",
      "no: 79.52%\n",
      "The distribution for region, is as follows:\n",
      "southwest: 24.29%\n",
      "southeast: 27.20%\n",
      "northwest: 24.29%\n",
      "northeast: 24.22%\n"
     ]
    }
   ],
   "source": [
    "def get_average(data, category):\n",
    "    total = 0\n",
    "    for row in data:\n",
    "        total += float(row[category])\n",
    "    print('The average of the ' + category + ' attribute is: ' + '{:.2f}'.format(total/len(data)))\n",
    "\n",
    "def get_distribution(data, category):\n",
    "    categories = {}\n",
    "    for row in data:\n",
    "        if row[category] in categories:\n",
    "            categories[row[category]] += 1\n",
    "        else:\n",
    "            categories[row[category]] = 1\n",
    "    print('The distribution for ' + category + ', is as follows:')\n",
    "    for category, count in categories.items():\n",
    "        print(category + ': {:.2f}%'.format((count/len(data)) * 100))\n",
    "\n",
    "get_average(data, 'age')\n",
    "get_average(data, 'bmi')\n",
    "get_average(data, 'children')\n",
    "get_average(data, 'charges')\n",
    "get_distribution(data, 'sex')\n",
    "get_distribution(data, 'smoker')\n",
    "get_distribution(data, 'region')"
   ]
  },
  {
   "cell_type": "code",
   "execution_count": 32,
   "metadata": {},
   "outputs": [
    {
     "name": "stdout",
     "output_type": "stream",
     "text": [
      "{'Gina': [80, 72, 90], 'Javed': [88, 68, 81], 'Siobhan': [80, 82, 84], 'Pedro': [98, 96, 95], 'Marcel': [78, 80, 78], 'Dilip': [64, 60, 75]}\n",
      "{'Gina': [81, 72, 90], 'Javed': [89, 68, 81], 'Siobhan': [81, 82, 84], 'Pedro': [99, 96, 95], 'Marcel': [79, 80, 78], 'Dilip': [65, 60, 75]}\n"
     ]
    }
   ],
   "source": [
    "test_scores = {\"Gina\":[80, 72, 90], \"Javed\":[88, 68, 81], \"Siobhan\":[80, 82, 84], \"Pedro\":[98, 96, 95], \"Marcel\":[78, 80, 78], \"Dilip\":[64, 60, 75]}\n",
    "\n",
    "print(test_scores)\n",
    "\n",
    "## Modify dictionary\n",
    "for scores in test_scores.values():\n",
    "  scores[0] += 1\n",
    "\n",
    "print(test_scores)\n",
    "## Write to a text file\n",
    "with open('modified_scores.txt', 'w') as modified_scores_file:\n",
    "  for student, scores in test_scores.items():\n",
    "    modified_scores_file.write(student + ': ')\n",
    "    for score in scores:\n",
    "      modified_scores_file.write(str(score) + ' ')\n",
    "    modified_scores_file.write('\\n')"
   ]
  }
 ],
 "metadata": {
  "kernelspec": {
   "display_name": "Python 3",
   "language": "python",
   "name": "python3"
  },
  "language_info": {
   "codemirror_mode": {
    "name": "ipython",
    "version": 3
   },
   "file_extension": ".py",
   "mimetype": "text/x-python",
   "name": "python",
   "nbconvert_exporter": "python",
   "pygments_lexer": "ipython3",
   "version": "3.11.3"
  },
  "orig_nbformat": 4
 },
 "nbformat": 4,
 "nbformat_minor": 2
}
